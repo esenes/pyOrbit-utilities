{
 "cells": [
  {
   "cell_type": "code",
   "execution_count": 34,
   "metadata": {},
   "outputs": [],
   "source": [
    "import PyHEADTAIL\n",
    "\n",
    "from __future__ import division, print_function\n",
    "range = xrange\n",
    "\n",
    "import numpy as np\n",
    "np.random.seed(42)\n",
    "\n",
    "import matplotlib.pyplot as plt\n",
    "%matplotlib inline\n",
    "\n",
    "import seaborn as sbs\n",
    "sbs.set_context('talk')\n",
    "\n",
    "from scipy.constants import c, e, m_p"
   ]
  },
  {
   "cell_type": "markdown",
   "metadata": {},
   "source": [
    "Import the PS lattice from the PyCERNMachines repository"
   ]
  },
  {
   "cell_type": "code",
   "execution_count": 35,
   "metadata": {
    "collapsed": true
   },
   "outputs": [],
   "source": [
    "from PyCERNmachines.CERNmachines import PS"
   ]
  },
  {
   "cell_type": "markdown",
   "metadata": {},
   "source": [
    "One can choose to initialisate the machine considering linear or non-linear motion using the keyword 'logitudinal_focusing'"
   ]
  },
  {
   "cell_type": "code",
   "execution_count": 36,
   "metadata": {},
   "outputs": [
    {
     "name": "stdout",
     "output_type": "stream",
     "text": [
      "Synchrotron init. From kwargs: machine_configuration = 'LHCbeam_h7'\n",
      "Synchrotron init. From kwargs: Q_y = 6.245\n",
      "Synchrotron init. From kwargs: Qp_x = [-5.0]\n",
      "Synchrotron init. From kwargs: n_segments = 1\n",
      "Synchrotron init. From kwargs: Q_x = 6.21\n",
      "Synchrotron init. From kwargs: gamma = 2.4921045053287254\n",
      "Synchrotron init. From kwargs: Qp_y = [-7.0]\n"
     ]
    }
   ],
   "source": [
    "Ekin = 1.4e9\n",
    "gamma = 1 + Ekin * e / (m_p * c**2)\n",
    "beta = np.sqrt(1 - gamma**-2)\n",
    "\n",
    "Q_x = 6.21\n",
    "Q_y = 6.245\n",
    "\n",
    "Qp_x = [-5.] # linear horizontal chromaticity, in tune units\n",
    "Qp_y = [-7.] # linear vertical chromaticity, in tune units\n",
    "# Qp_x = [0.]\n",
    "# Qp_y = [0.]\n",
    "\n",
    "machine = PS(n_segments=1, gamma=gamma, machine_configuration='LHCbeam_h7', \n",
    "             longitudinal_focusing='non-linear', Qp_x=Qp_x, Qp_y=Qp_y,Q_x=Q_x,Q_y=Q_y)"
   ]
  },
  {
   "cell_type": "code",
   "execution_count": 37,
   "metadata": {
    "collapsed": true
   },
   "outputs": [],
   "source": [
    "machine.longitudinal_map.pop_kick(1)\n",
    "machine.longitudinal_map.phi_offsets[0] += np.pi\n"
   ]
  },
  {
   "cell_type": "markdown",
   "metadata": {
    "collapsed": true
   },
   "source": [
    "Now we have the transfer maps, let's generate the beams\n",
    "\n",
    "generate_6D_Gaussian_bunch_matched() -> will generate a 4D gaussian beam, with a matched gaussian distribution in the longitudinal direction"
   ]
  },
  {
   "cell_type": "code",
   "execution_count": 38,
   "metadata": {
    "collapsed": true
   },
   "outputs": [],
   "source": [
    "betagamma = machine.betagamma"
   ]
  },
  {
   "cell_type": "code",
   "execution_count": 39,
   "metadata": {},
   "outputs": [
    {
     "data": {
      "text/plain": [
       "2.2826705556167606"
      ]
     },
     "execution_count": 39,
     "metadata": {},
     "output_type": "execute_result"
    }
   ],
   "source": [
    "machine.betagamma"
   ]
  },
  {
   "cell_type": "code",
   "execution_count": 40,
   "metadata": {
    "collapsed": true
   },
   "outputs": [],
   "source": [
    "# set parameters at injection\n",
    "machine.beta_x = [20.65087277]\n",
    "machine.alpha_x = [0.05677769231]\n",
    "machine.D_x =[ 3.1369510109999998]\n",
    "machine.beta_y = [12.02778782]\n",
    "machine.alpha_y = [0.10479037]\n",
    "machine.D_y = [0.]\n"
   ]
  },
  {
   "cell_type": "code",
   "execution_count": 41,
   "metadata": {},
   "outputs": [
    {
     "name": "stdout",
     "output_type": "stream",
     "text": [
      "*** Maximum RMS emittance 1.46369000884eV s.\n",
      "... distance to target emittance: -4.95e-01\n",
      "... distance to target emittance: 7.87e-01\n",
      "... distance to target emittance: 4.88e-01\n",
      "... distance to target emittance: 1.12e-01\n",
      "... distance to target emittance: -3.16e-02\n",
      "... distance to target emittance: 1.25e-03\n",
      "... distance to target emittance: 9.65e-06\n",
      "... distance to target emittance: -3.67e-10\n",
      "... distance to target emittance: 2.54e-06\n",
      "--> Emittance: 0.499999999633\n",
      "--> Bunch length:7.74207042289\n"
     ]
    }
   ],
   "source": [
    "n_macroparticles = 1000\n",
    "intensity = 80e10 # in protons per bunch\n",
    "epsn_x = 1e-6\n",
    "epsn_y = 1e-6\n",
    "epsn_z = 0.5 # [eVs]\n",
    "\n",
    "bunch = machine.generate_6D_Gaussian_bunch_matched(\n",
    "    n_macroparticles=n_macroparticles, intensity=intensity, \n",
    "    epsn_x=epsn_x, epsn_y=epsn_y, epsn_z=epsn_z)"
   ]
  },
  {
   "cell_type": "code",
   "execution_count": 42,
   "metadata": {
    "collapsed": true
   },
   "outputs": [],
   "source": [
    "# convert units to mm mrad for pyOrbit\n",
    "bunch.x = 1e3*bunch.x\n",
    "bunch.xp = 1e3*bunch.xp\n",
    "bunch.y = 1e3*bunch.y\n",
    "bunch.yp = 1e3*bunch.yp"
   ]
  },
  {
   "cell_type": "code",
   "execution_count": 43,
   "metadata": {},
   "outputs": [
    {
     "data": {
      "text/plain": [
       "[<matplotlib.lines.Line2D at 0x1349b7710>]"
      ]
     },
     "execution_count": 43,
     "metadata": {},
     "output_type": "execute_result"
    },
    {
     "data": {
      "image/png": "[encoded data removed]",
      "text/plain": [
       "<matplotlib.figure.Figure at 0x12b8865d0>"
      ]
     },
     "metadata": {},
     "output_type": "display_data"
    }
   ],
   "source": [
    "plt.plot(bunch.x,bunch.xp,'.')"
   ]
  },
  {
   "cell_type": "code",
   "execution_count": 44,
   "metadata": {
    "collapsed": true
   },
   "outputs": [],
   "source": [
    "# matched transverse distribution, zeros in longitudinal\n",
    "np.savetxt('PS_matched_transvers.dist',\n",
    "           np.array([bunch.x, bunch.xp, bunch.y, bunch.yp, np.zeros(len(bunch.x)), np.zeros(len(bunch.x))]).T,\n",
    "           delimiter=' ',newline='\\n')"
   ]
  },
  {
   "cell_type": "code",
   "execution_count": null,
   "metadata": {
    "collapsed": true
   },
   "outputs": [],
   "source": []
  },
  {
   "cell_type": "code",
   "execution_count": null,
   "metadata": {
    "collapsed": true
   },
   "outputs": [],
   "source": []
  },
  {
   "cell_type": "code",
   "execution_count": null,
   "metadata": {
    "collapsed": true
   },
   "outputs": [],
   "source": []
  }
 ],
 "metadata": {
  "kernelspec": {
   "display_name": "Python 2",
   "language": "python",
   "name": "python2"
  },
  "language_info": {
   "codemirror_mode": {
    "name": "ipython",
    "version": 2
   },
   "file_extension": ".py",
   "mimetype": "text/x-python",
   "name": "python",
   "nbconvert_exporter": "python",
   "pygments_lexer": "ipython2",
   "version": "2.7.13"
  }
 },
 "nbformat": 4,
 "nbformat_minor": 2
}
